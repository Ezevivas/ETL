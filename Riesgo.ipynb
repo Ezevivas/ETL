{
 "cells": [
  {
   "cell_type": "markdown",
   "metadata": {
    "application/vnd.databricks.v1+cell": {
     "cellMetadata": {
      "byteLimit": 2048000,
      "rowLimit": 10000
     },
     "inputWidgets": {},
     "nuid": "a8bd5a99-769d-4747-a050-ff02d3728523",
     "showTitle": false,
     "tableResultSettingsMap": {},
     "title": ""
    }
   },
   "source": [
    "# Riesgo_PySpark.ipynb\n",
    "<h> by PySpark\n",
    "#### Estado: **Ok**\n",
    "<p> Source: Se realizará la lectura de STG2 para obtener los dataframes necesarios para generar la tabla de 'Riesgos', y cargarla en formato Delta Table para su posterior consulta.\n",
    "<p> Se tomará la información desde el STG2 para generar un consumible de STG3 en formato Delta Table.\n",
    "<p> Inputs:\n",
    "  <ol>\n",
    "    <li>Player</li>\n",
    "    <li>Depositos y Retiros</li>\n",
    "    <li>Apuestas y Premios</li>\n",
    "    <li>Otras Operaciones</li>\n",
    "  </ol>\n",
    "<p> Output: Delta Table actualizado de \"Riesgos\" y su carga en el Warehouse de Databricks."
   ]
  },
  {
   "cell_type": "markdown",
   "metadata": {
    "application/vnd.databricks.v1+cell": {
     "cellMetadata": {
      "byteLimit": 2048000,
      "rowLimit": 10000
     },
     "inputWidgets": {},
     "nuid": "1076ff25-494c-441c-ae68-82d7cf59a88a",
     "showTitle": false,
     "tableResultSettingsMap": {},
     "title": ""
    }
   },
   "source": [
    "## 1. Start Up"
   ]
  },
  {
   "cell_type": "markdown",
   "metadata": {
    "application/vnd.databricks.v1+cell": {
     "cellMetadata": {
      "byteLimit": 2048000,
      "rowLimit": 10000
     },
     "inputWidgets": {},
     "nuid": "df86c05d-52d3-4a1d-a493-28525ea47218",
     "showTitle": false,
     "tableResultSettingsMap": {},
     "title": ""
    }
   },
   "source": [
    "### Declaración de librerias utilizadas\n",
    "<p> pyspark.sql.functions = Importa funciones de PySpark para manipular y trabajar con columnas y datos en los DataFrames.\n",
    "<p> pyspark.sql.types = Importa tipos de datos, para definir la estructura de los DataFrames."
   ]
  },
  {
   "cell_type": "code",
   "execution_count": 0,
   "metadata": {
    "application/vnd.databricks.v1+cell": {
     "cellMetadata": {
      "byteLimit": 2048000,
      "rowLimit": 10000
     },
     "inputWidgets": {},
     "nuid": "0aeb0021-217e-41be-aceb-ad7396cce3fe",
     "showTitle": false,
     "tableResultSettingsMap": {},
     "title": ""
    }
   },
   "outputs": [],
   "source": [
    "from pyspark.sql.functions import col, date_format, lit, coalesce\n",
    "from pyspark.sql.types import IntegerType, StringType, DateType, TimestampType, LongType, DecimalType\n",
    "from pyspark.sql import Window\n",
    "from delta.tables import DeltaTable\n",
    "from datetime import datetime"
   ]
  },
  {
   "cell_type": "markdown",
   "metadata": {
    "application/vnd.databricks.v1+cell": {
     "cellMetadata": {
      "byteLimit": 2048000,
      "rowLimit": 10000
     },
     "inputWidgets": {},
     "nuid": "e33cc2fc-58bb-43e9-8ebe-6ad9a85aedfb",
     "showTitle": false,
     "tableResultSettingsMap": {},
     "title": ""
    }
   },
   "source": [
    "### Nomenclatura de Fuentes y Auxiliares\n",
    "<ul>\n",
    "  <li>df = dataframe</li>\n",
    "  <li>p = player</li>\n",
    "  <li>ayp = apuestas y premios</li>\n",
    "  <li>dyr = depositos y premios</li>\n",
    "  <li>op = otras operaciones</li>\n",
    "  <li>ad = apuestas deportivas</li>\n",
    "</ul>"
   ]
  },
  {
   "cell_type": "markdown",
   "metadata": {
    "application/vnd.databricks.v1+cell": {
     "cellMetadata": {
      "byteLimit": 2048000,
      "rowLimit": 10000
     },
     "inputWidgets": {},
     "nuid": "45922ca4-9726-4d49-ac50-111d993c36c3",
     "showTitle": false,
     "tableResultSettingsMap": {},
     "title": ""
    }
   },
   "source": [
    "## Input"
   ]
  },
  {
   "cell_type": "code",
   "execution_count": 0,
   "metadata": {
    "application/vnd.databricks.v1+cell": {
     "cellMetadata": {
      "byteLimit": 2048000,
      "rowLimit": 10000
     },
     "inputWidgets": {},
     "nuid": "ca1b7a23-7dd8-48ae-b031-c959f36234f5",
     "showTitle": false,
     "tableResultSettingsMap": {},
     "title": ""
    }
   },
   "outputs": [],
   "source": [
    "df_p = spark.read.table('path.productivo.player')\n",
    "df_ayp = spark.read.table('path.productivo.apuestas_y_premios')\n",
    "df_dyr = spark.read.table('path.productivo.depositos_y_retiros')\n",
    "df_op = spark.read.table('path.productivo.otras_operaciones')\n",
    "df_ad = spark.read.table('path.productivo.apuestas_deportivas')\n",
    "df_b = spark.read.table('path.productivo.balance')\n",
    "df_churn = spark.read.table('path.productivo.interacciones_player')"
   ]
  },
  {
   "cell_type": "code",
   "execution_count": 0,
   "metadata": {
    "application/vnd.databricks.v1+cell": {
     "cellMetadata": {
      "byteLimit": 2048000,
      "rowLimit": 10000
     },
     "inputWidgets": {},
     "nuid": "aeaab07f-ca53-4db0-a00d-6d68f7da6c27",
     "showTitle": false,
     "tableResultSettingsMap": {},
     "title": ""
    }
   },
   "outputs": [],
   "source": [
    "df_dic_ad = spark.read.table('path.productivo.diccionario_aadd')"
   ]
  },
  {
   "cell_type": "markdown",
   "metadata": {
    "application/vnd.databricks.v1+cell": {
     "cellMetadata": {
      "byteLimit": 2048000,
      "rowLimit": 10000
     },
     "inputWidgets": {},
     "nuid": "6fac941e-225f-455a-b521-125e3e876570",
     "showTitle": false,
     "tableResultSettingsMap": {},
     "title": ""
    }
   },
   "source": [
    "## Caso N° 1\n",
    "<p> Realizo algún Cash Out en el mes"
   ]
  },
  {
   "cell_type": "code",
   "execution_count": 0,
   "metadata": {
    "application/vnd.databricks.v1+cell": {
     "cellMetadata": {
      "byteLimit": 2048000,
      "rowLimit": 10000
     },
     "inputWidgets": {},
     "nuid": "8e3760c9-80f9-49c2-bbb6-3a99af88e472",
     "showTitle": false,
     "tableResultSettingsMap": {},
     "title": ""
    }
   },
   "outputs": [],
   "source": [
    "df_Caso1 = df_ad.filter(col('combination_status_id') == 6)\\\n",
    "    .select(\n",
    "        'partner_id', \n",
    "        'partner_player_id', \n",
    "        date_format(col('fecha'), 'yyyy-MM').alias('mes')\n",
    "    ).distinct().orderBy('partner_player_id')\n",
    "\n",
    "df_Caso1 = df_Caso1.withColumn('Caso1', lit(5))"
   ]
  },
  {
   "cell_type": "markdown",
   "metadata": {
    "application/vnd.databricks.v1+cell": {
     "cellMetadata": {
      "byteLimit": 2048000,
      "rowLimit": 10000
     },
     "inputWidgets": {},
     "nuid": "bbceff20-f175-4210-a003-930c7adc5814",
     "showTitle": false,
     "tableResultSettingsMap": {},
     "title": ""
    }
   },
   "source": [
    "## Caso N° 2\n",
    "<p> Realizo una apuesta de Cuota Baja"
   ]
  },
  {
   "cell_type": "code",
   "execution_count": 0,
   "metadata": {
    "application/vnd.databricks.v1+cell": {
     "cellMetadata": {
      "byteLimit": 2048000,
      "rowLimit": 10000
     },
     "inputWidgets": {},
     "nuid": "0d69d367-2693-4f08-a617-7ffd8d2edb7a",
     "showTitle": false,
     "tableResultSettingsMap": {},
     "title": ""
    }
   },
   "outputs": [],
   "source": [
    "df_Caso2 = df_ad.filter((col('combination_odds') >= 1) & (col('combination_odds') <= 1.07) & (col('operation_type_id') == 4))\\\n",
    "    .select(\n",
    "        'partner_id', \n",
    "        'partner_player_id',\n",
    "        # 'combination_status_id',\n",
    "        date_format(col('fecha'), 'yyyy-MM').alias('mes')\n",
    "    ).distinct().orderBy('partner_player_id')\n",
    "\n",
    "df_Caso2 = df_Caso2.withColumn('Caso2', lit(5))"
   ]
  },
  {
   "cell_type": "markdown",
   "metadata": {
    "application/vnd.databricks.v1+cell": {
     "cellMetadata": {
      "byteLimit": 2048000,
      "rowLimit": 10000
     },
     "inputWidgets": {},
     "nuid": "2012ab29-9cbc-4424-822a-d9568630ef78",
     "showTitle": false,
     "tableResultSettingsMap": {},
     "title": ""
    }
   },
   "source": [
    "## Caso N° 3\n",
    "<p> Cantidad distintas de IPs X Mes"
   ]
  },
  {
   "cell_type": "code",
   "execution_count": 0,
   "metadata": {
    "application/vnd.databricks.v1+cell": {
     "cellMetadata": {
      "byteLimit": 2048000,
      "rowLimit": 10000
     },
     "inputWidgets": {},
     "nuid": "3f53728c-77d2-49c7-88ba-f390ac1aa528",
     "showTitle": false,
     "tableResultSettingsMap": {},
     "title": ""
    }
   },
   "outputs": [],
   "source": [
    "df_la = spark.read.parquet('/Volumes/boldtproddatalake/boldtdatalake/bplaybet_arg/dbo/login_activities')\n",
    "df_usr = spark.read.parquet('/Volumes/boldtproddatalake/boldtdatalake/bplaybet_arg/dbo/users')\n",
    "\n",
    "# Definir los datos\n",
    "data = [(46, 460), (13, 130), (88, 256)]\n",
    "\n",
    "# Definir los nombres de las columnas\n",
    "columns = [\"id\", \"partner\"]\n",
    "\n",
    "# Crear el DataFrame\n",
    "df_partner_Migra = spark.createDataFrame(data, columns)"
   ]
  },
  {
   "cell_type": "code",
   "execution_count": 0,
   "metadata": {
    "application/vnd.databricks.v1+cell": {
     "cellMetadata": {
      "byteLimit": 2048000,
      "rowLimit": 10000
     },
     "inputWidgets": {},
     "nuid": "253d9614-a12a-4567-96a4-cbc565e0f0db",
     "showTitle": false,
     "tableResultSettingsMap": {},
     "title": ""
    }
   },
   "outputs": [],
   "source": [
    "from pyspark.sql.functions import date_format, col, countDistinct, concat, when, format_string\n",
    "\n",
    "# Cantidad de IPs\n",
    "df_Caso3_GT = df_la.join(df_usr, df_la[\"user_id\"] == df_usr[\"id\"])\\\n",
    "        .join(df_partner_Migra, df_usr[\"bookmaker_id\"] == df_partner_Migra[\"id\"])\\\n",
    "        .select(\n",
    "    date_format(df_la[\"created_at\"], 'yyyy-MM').alias('Mes'),\n",
    "    df_partner_Migra[\"partner\"],\n",
    "    #df_usr[\"id\"],\n",
    "    concat(df_partner_Migra[\"partner\"], when(df_usr['alira_id'].isNotNull(), df_usr['alira_id'])\n",
    "            .when(df_usr[\"bookmaker_id\"].isin(88), concat(df_usr[\"bookmaker_id\"], format_string(\"%08d\", df_usr[\"id\"]))) \\\n",
    "                .otherwise(df_usr[\"id\"])).cast(LongType()).alias(\"partner_player_id\"), ##### Migracion ####\n",
    "    df_la[\"ip\"]\n",
    ").groupBy('partner', 'partner_player_id', 'Mes').agg(countDistinct('ip').alias('cant_ips')).orderBy('partner_player_id', 'Mes')"
   ]
  },
  {
   "cell_type": "code",
   "execution_count": 0,
   "metadata": {
    "application/vnd.databricks.v1+cell": {
     "cellMetadata": {
      "byteLimit": 2048000,
      "rowLimit": 10000
     },
     "inputWidgets": {},
     "nuid": "de622e40-e1db-4f8b-8f26-bbf9ebb374f6",
     "showTitle": false,
     "tableResultSettingsMap": {},
     "title": ""
    }
   },
   "outputs": [],
   "source": [
    "    # Get DF Player\n",
    "df_p0 = spark.read.parquet('/Volumes/boldtproddatalake/boldtdatalake/dwbplay_py/OGP/player')\n",
    "df_p1 = spark.read.parquet('/Volumes/boldtproddatalake/boldtdatalake/dwbplay_sf/OGP/player')\n",
    "df_p2 = spark.read.parquet('/Volumes/boldtproddatalake/boldtdatalake/dwbplay_caba/OGP/player')\n",
    "df_p3 = spark.read.parquet('/Volumes/boldtproddatalake/boldtdatalake/dwbplay_cordoba/OGP/player')\n",
    "    # Get DF IPs\n",
    "df_ip0 = spark.read.parquet('/Volumes/boldtproddatalake/boldtdatalake/dwbplay_py/OGP/ip_log/')\n",
    "df_ip1 = spark.read.parquet('/Volumes/boldtproddatalake/boldtdatalake/dwbplay_sf/OGP/ip_log/')\n",
    "df_ip2 = spark.read.parquet('/Volumes/boldtproddatalake/boldtdatalake/dwbplay_caba/OGP/ip_log/')\n",
    "df_ip3 = spark.read.parquet('/Volumes/boldtproddatalake/boldtdatalake/dwbplay_cordoba/OGP/ip_log/')"
   ]
  },
  {
   "cell_type": "code",
   "execution_count": 0,
   "metadata": {
    "application/vnd.databricks.v1+cell": {
     "cellMetadata": {
      "byteLimit": 2048000,
      "rowLimit": 10000
     },
     "inputWidgets": {},
     "nuid": "52304597-a5f9-4309-8459-58f89d6e4da4",
     "showTitle": false,
     "tableResultSettingsMap": {},
     "title": ""
    }
   },
   "outputs": [],
   "source": [
    "# Cantidad de IPs\n",
    "def Create_Caso3(p, ip):\n",
    "    p = p.filter((col('type') == 3))\n",
    "\n",
    "    result = ip.join(p, p[\"id\"] == ip[\"player\"]).select(\n",
    "        p[\"partner\"].alias('partner_id'),\n",
    "        concat(p[\"partner\"], p[\"id\"]).alias(\"partner_player_id\"),\n",
    "        date_format(ip[\"created_date\"], 'yyyy-MM').alias('Mes'),\n",
    "        ip[\"ip_address\"]\n",
    "    ).groupBy('partner_id', 'partner_player_id', 'Mes').agg(countDistinct('ip_address').alias('cant_ips')).orderBy('partner_player_id', 'Mes')\n",
    "    return result"
   ]
  },
  {
   "cell_type": "code",
   "execution_count": 0,
   "metadata": {
    "application/vnd.databricks.v1+cell": {
     "cellMetadata": {
      "byteLimit": 2048000,
      "rowLimit": 10000
     },
     "inputWidgets": {},
     "nuid": "5227ae93-e925-4d61-b8a5-8d7c0e09ec36",
     "showTitle": false,
     "tableResultSettingsMap": {},
     "title": ""
    }
   },
   "outputs": [],
   "source": [
    "df_Caso3_0 = Create_Caso3(df_p0, df_ip0)\n",
    "df_Caso3_1 = Create_Caso3(df_p1, df_ip1)\n",
    "df_Caso3_2 = Create_Caso3(df_p2, df_ip2)\n",
    "df_Caso3_3 = Create_Caso3(df_p3, df_ip3) # No funciona\n",
    "df_Caso3_GT = df_Caso3_GT\n",
    "\n",
    "df_Caso3 = df_Caso3_0.union(df_Caso3_1).union(df_Caso3_2).union(df_Caso3_3).union(df_Caso3_GT)\n",
    "\n",
    "df_Caso3 = df_Caso3.withColumn(\n",
    "    \"Caso3\",\n",
    "    when(col(\"cant_ips\") <= 9, lit(1))\n",
    "    .when(col(\"cant_ips\") <= 19, lit(2))\n",
    "    .when(col(\"cant_ips\") <= 29, lit(4))\n",
    "    .otherwise(lit(5))\n",
    ")"
   ]
  },
  {
   "cell_type": "markdown",
   "metadata": {
    "application/vnd.databricks.v1+cell": {
     "cellMetadata": {
      "byteLimit": 2048000,
      "rowLimit": 10000
     },
     "inputWidgets": {},
     "nuid": "0eb7f8cd-7b1a-4cfc-b8f2-836e8ac53953",
     "showTitle": false,
     "tableResultSettingsMap": {},
     "title": ""
    }
   },
   "source": [
    "## Caso N° 4\n",
    "<p> Bonos Convertidos"
   ]
  },
  {
   "cell_type": "code",
   "execution_count": 0,
   "metadata": {
    "application/vnd.databricks.v1+cell": {
     "cellMetadata": {
      "byteLimit": 2048000,
      "rowLimit": 10000
     },
     "inputWidgets": {},
     "nuid": "f5291166-7b8d-4bc1-8141-30f17cc846f7",
     "showTitle": false,
     "tableResultSettingsMap": {},
     "title": ""
    }
   },
   "outputs": [],
   "source": [
    "from pyspark.sql.functions import count, sum\n",
    "\n",
    "df_Caso4 = df_op.filter((col('operation_type_id') == 5) & (col('balance_type_id') == 1))\\\n",
    "    .groupBy(\n",
    "        'partner_id',\n",
    "        'partner_player_id',\n",
    "        date_format(col('fecha_operacion'), 'yyyy-MM').alias('Mes')\n",
    "    ).agg(\n",
    "        sum(col('movement_amount')).alias('monto')\n",
    "    ).orderBy('partner_player_id', 'Mes').filter(col('monto') >= 0)\n",
    "\n",
    "df_Caso4 = df_Caso4.withColumn(\n",
    "    \"Caso4\",\n",
    "    when(col(\"monto\") <= 10000, lit(2))\n",
    "    .when(col(\"monto\") <= 43500, lit(4))\n",
    "    .when(col(\"monto\") > 43500, lit(5))\n",
    "    .otherwise(lit(1))\n",
    ")"
   ]
  },
  {
   "cell_type": "markdown",
   "metadata": {
    "application/vnd.databricks.v1+cell": {
     "cellMetadata": {
      "byteLimit": 2048000,
      "rowLimit": 10000
     },
     "inputWidgets": {},
     "nuid": "f5a5f614-0cb9-43f7-b863-de8be6e4c306",
     "showTitle": false,
     "tableResultSettingsMap": {},
     "title": ""
    }
   },
   "source": [
    "## Caso N° 5\n",
    "<p> GGR Menor 0 Y JUGADO EN BONOS Mayor JUGADO EN Efectivo$\n",
    "<p> cuando el GGR es menor 0 (la ganancia es del player) y el monto apostado en Bono es mayor al monto apuestado en efectivo"
   ]
  },
  {
   "cell_type": "code",
   "execution_count": 0,
   "metadata": {
    "application/vnd.databricks.v1+cell": {
     "cellMetadata": {
      "byteLimit": 2048000,
      "rowLimit": 10000
     },
     "inputWidgets": {},
     "nuid": "f491bd3c-854b-4137-a961-fc5644911d73",
     "showTitle": false,
     "tableResultSettingsMap": {},
     "title": ""
    }
   },
   "outputs": [],
   "source": [
    "# GGR Menor 0 Y JUGADO EN BONOS Mayor JUGADO EN Efectivo$\n",
    "\n",
    "## GGR Efectivo\n",
    "df_ayp_efectivo = df_ayp.filter(col('balance_type_id') == 1)\n",
    "df_Caso5_GGR = df_ayp_efectivo.groupBy(\n",
    "        'partner_id',\n",
    "        'partner_player_id',\n",
    "        date_format(col('fecha_operacion'), 'yyyy-MM').alias('Mes')\n",
    "    ).agg(\n",
    "        sum(col('movement_amount')*-1).alias('GGR')\n",
    "    ).orderBy('partner_player_id', 'Mes')\n",
    "\n",
    "## Apuestas Bono y Apuestas Efectivo\n",
    "df_Ap = df_ayp.filter((col('operation_type_id') == 4) & (col('balance_type_id').isin(1, 8))).groupBy(\n",
    "        'partner_id',\n",
    "        'partner_player_id',\n",
    "        date_format(col('fecha_operacion'), 'yyyy-MM').alias('Mes'),\n",
    "        when(col('balance_type_id') == 1, 'Ap_Eftvo')\n",
    "            .otherwise(when(col('balance_type_id') == 8, 'Ap_Bono')).alias('tipo')\n",
    "    ).agg(\n",
    "        sum(col('movement_amount')*-1).alias('GGR')\n",
    "    ).orderBy('partner_player_id', 'Mes')\n",
    "\n",
    "## PIVOT\n",
    "# Asumimos que tu DataFrame se llama df\n",
    "df_pivot = df_Ap.groupBy(\"partner_id\", \"partner_player_id\", \"Mes\") \\\n",
    "                .pivot(\"tipo\", [\"Ap_Eftvo\", \"Ap_Bono\"]) \\\n",
    "                .sum(\"GGR\")\n",
    "                \n",
    "df_Caso5_Ap  = df_pivot.fillna(0.0, subset=[\"Ap_Eftvo\", \"Ap_Bono\"])\n",
    "\n",
    "df_Caso5_unificado = df_Caso5_GGR.join(df_Caso5_Ap, ['partner_id', 'partner_player_id', 'Mes'], 'inner').orderBy('partner_player_id', 'Mes')"
   ]
  },
  {
   "cell_type": "code",
   "execution_count": 0,
   "metadata": {
    "application/vnd.databricks.v1+cell": {
     "cellMetadata": {
      "byteLimit": 2048000,
      "rowLimit": 10000
     },
     "inputWidgets": {},
     "nuid": "630975e0-f803-46f0-bf8b-b8f9ee837784",
     "showTitle": false,
     "tableResultSettingsMap": {},
     "title": ""
    }
   },
   "outputs": [],
   "source": [
    "df_Caso5 = df_Caso5_unificado.withColumn(\n",
    "    \"Caso5\",\n",
    "    when((col(\"GGR\") < 0) & (col(\"Ap_Bono\") > col(\"Ap_Eftvo\")), lit(5))\n",
    "    .otherwise(lit(1))\n",
    ")"
   ]
  },
  {
   "cell_type": "markdown",
   "metadata": {
    "application/vnd.databricks.v1+cell": {
     "cellMetadata": {
      "byteLimit": 2048000,
      "rowLimit": 10000
     },
     "inputWidgets": {},
     "nuid": "c0f12fd4-d20b-428f-9377-63e0846d6e4d",
     "showTitle": false,
     "tableResultSettingsMap": {},
     "title": ""
    }
   },
   "source": [
    "## Caso N° 6\n",
    "<p> Deposito menor a (retiro + Saldo disponible)"
   ]
  },
  {
   "cell_type": "code",
   "execution_count": 0,
   "metadata": {
    "application/vnd.databricks.v1+cell": {
     "cellMetadata": {
      "byteLimit": 2048000,
      "rowLimit": 10000
     },
     "inputWidgets": {},
     "nuid": "421b40ec-a1fc-4752-b879-aaad17beb27f",
     "showTitle": false,
     "tableResultSettingsMap": {},
     "title": ""
    }
   },
   "outputs": [],
   "source": [
    "df_C6_dyr = df_dyr.filter(col('transaction_status_id') == 2).groupBy(\n",
    "        'partner_id',\n",
    "        'partner_player_id',\n",
    "        date_format(col('fecha'), 'yyyy-MM').alias('Mes'),\n",
    "        when(col('transaction_type_id') == 1, 'Deposito')\n",
    "            .otherwise('Retiro').alias('tipo')\n",
    "    ).agg(\n",
    "        sum('transaction_amount').alias('monto')\n",
    "    )\n",
    "\n",
    "## PIVOT\n",
    "# Asumimos que tu DataFrame se llama df\n",
    "df_pivot = df_C6_dyr.groupBy(\"partner_id\", \"partner_player_id\", \"Mes\") \\\n",
    "                    .pivot(\"tipo\", [\"Deposito\", \"Retiro\"]) \\\n",
    "                    .sum(\"monto\")\n",
    "\n",
    "df_Caso6_dyr  = df_pivot.fillna(0.0, subset=[\"Deposito\", \"Retiro\"])\n",
    "\n",
    "df_Caso6_unificado = df_Caso6_dyr.join(df_b.filter(col('balance_type_id') == 1), 'partner_player_id') \\\n",
    "                .select(\n",
    "                    df_Caso6_dyr['partner_id'],\n",
    "                    df_Caso6_dyr['partner_player_id'],\n",
    "                    df_Caso6_dyr['Mes'],\n",
    "                    df_Caso6_dyr['Deposito'],\n",
    "                    df_Caso6_dyr['Retiro'],\n",
    "                    df_b['balance_amount'].alias('Saldo Disponible')\n",
    "                )"
   ]
  },
  {
   "cell_type": "code",
   "execution_count": 0,
   "metadata": {
    "application/vnd.databricks.v1+cell": {
     "cellMetadata": {
      "byteLimit": 2048000,
      "rowLimit": 10000
     },
     "inputWidgets": {},
     "nuid": "dc492a22-7cd2-48c9-93e1-bb43aafaddf4",
     "showTitle": false,
     "tableResultSettingsMap": {},
     "title": ""
    }
   },
   "outputs": [],
   "source": [
    "df_Caso6 = df_Caso6_unificado.withColumn(\n",
    "    \"Caso6\",\n",
    "    when(\n",
    "        col(\"Deposito\") < (col(\"Retiro\") + col(\"Saldo Disponible\")),\n",
    "        when(col(\"Deposito\") <= 100000, lit(2)) ## <= $100.000,00\n",
    "        .when(col(\"Deposito\") <= 200000, lit(4)) ## <= $200.000,00\n",
    "        .otherwise(lit(5))\n",
    "    ).otherwise(lit(1))\n",
    ")"
   ]
  },
  {
   "cell_type": "markdown",
   "metadata": {
    "application/vnd.databricks.v1+cell": {
     "cellMetadata": {
      "byteLimit": 2048000,
      "rowLimit": 10000
     },
     "inputWidgets": {},
     "nuid": "2f71f6ca-4e66-41f6-8be8-0423acb31eee",
     "showTitle": false,
     "tableResultSettingsMap": {},
     "title": ""
    }
   },
   "source": [
    "## Caso 7\n",
    "<p> FTD o Deposito luego de 3 meses de inactividad"
   ]
  },
  {
   "cell_type": "code",
   "execution_count": 0,
   "metadata": {
    "application/vnd.databricks.v1+cell": {
     "cellMetadata": {
      "byteLimit": 2048000,
      "rowLimit": 10000
     },
     "inputWidgets": {},
     "nuid": "306ea343-df74-4381-88b7-0176d16f3fad",
     "showTitle": false,
     "tableResultSettingsMap": {},
     "title": ""
    }
   },
   "outputs": [],
   "source": [
    "from pyspark.sql import functions as F, Window\n",
    "\n",
    "# Definir ventana por jugador y orden temporal\n",
    "w = Window.partitionBy(\"partner_player_id\").orderBy(\"periodo\")\n",
    "\n",
    "# Flag de inactividad (1 si es churn/abandono, 0 en caso contrario)\n",
    "df_flag = df_churn.withColumn(\n",
    "    \"inactivo\",\n",
    "    F.when(F.col(\"status\").isin(\"Churn\", \"Abandono\"), F.lit(1)).otherwise(F.lit(0))\n",
    ")\n",
    "\n",
    "# Contar rachas de inactividad consecutivas\n",
    "df_flag = df_flag.withColumn(\n",
    "    \"racha_inactivo\",\n",
    "    F.when(F.col(\"inactivo\") == 1,\n",
    "           F.row_number().over(w) - F.row_number().over(w.rowsBetween(Window.unboundedPreceding, 0))\n",
    "    )\n",
    ")\n",
    "\n",
    "# Crear columna \"Caso7\"\n",
    "df_resultado = df_flag.withColumn(\n",
    "    \"Caso7\",\n",
    "    F.when(F.col(\"status\") == \"FTD\", 5)  # FTD original\n",
    "     .when(\n",
    "        (F.col(\"inactivo\") == 0) &  # vuelve a tener actividad\n",
    "        (F.lag(\"inactivo\", 1).over(w) == 1) &  # el mes anterior estaba inactivo\n",
    "        (F.sum(\"inactivo\").over(w.rowsBetween(-3, -1)) == 3),  # hubo 3 meses seguidos inactivo\n",
    "        5\n",
    "     )\n",
    ")\n",
    "\n",
    "df_Caso7 = df_resultado.filter(F.col(\"Caso7\").isNotNull()).select(\"partner_player_id\", col(\"periodo\").alias('mes'), \"Caso7\")"
   ]
  },
  {
   "cell_type": "markdown",
   "metadata": {
    "application/vnd.databricks.v1+cell": {
     "cellMetadata": {
      "byteLimit": 2048000,
      "rowLimit": 10000
     },
     "inputWidgets": {},
     "nuid": "9b7c3dc0-7669-4aeb-97de-c3816b9d7a78",
     "showTitle": false,
     "tableResultSettingsMap": {},
     "title": ""
    }
   },
   "source": [
    "## Caso 8\n",
    "<p> Contraseñas duplicadas y si alguno de los usuarios se encuentra en estado como \"contrato anulado\""
   ]
  },
  {
   "cell_type": "code",
   "execution_count": 0,
   "metadata": {
    "application/vnd.databricks.v1+cell": {
     "cellMetadata": {
      "byteLimit": 2048000,
      "rowLimit": 10000
     },
     "inputWidgets": {},
     "nuid": "b2d22e0d-130c-48f7-9ffe-dd72a0e25f16",
     "showTitle": false,
     "tableResultSettingsMap": {},
     "title": ""
    }
   },
   "outputs": [],
   "source": [
    "  # Get Player\n",
    "df_p0 = spark.read.parquet(\"/Volumes/boldtproddatalake/boldtdatalake/dwbplay_py/OGP/player\").filter((col(\"status\") != 1) & (col(\"type\") == 3))\n",
    "df_p1 = spark.read.parquet(\"/Volumes/boldtproddatalake/boldtdatalake/dwbplay_sf/OGP/player\").filter((col(\"status\") != 1) & (col(\"type\") == 3))\n",
    "df_p2 = spark.read.parquet(\"/Volumes/boldtproddatalake/boldtdatalake/dwbplay_caba/OGP/player\").filter((col(\"status\") != 1) & (col(\"type\") == 3))\n",
    "df_p3 = spark.read.parquet(\"/Volumes/boldtproddatalake/boldtdatalake/dwbplay_cordoba/OGP/player\").filter((col(\"status\") != 1) & (col(\"type\") == 3))"
   ]
  },
  {
   "cell_type": "code",
   "execution_count": 0,
   "metadata": {
    "application/vnd.databricks.v1+cell": {
     "cellMetadata": {
      "byteLimit": 2048000,
      "rowLimit": 10000
     },
     "inputWidgets": {},
     "nuid": "9b2a3312-9cb6-4f9f-bfe8-e8ae4148fe2e",
     "showTitle": false,
     "tableResultSettingsMap": {},
     "title": ""
    }
   },
   "outputs": [],
   "source": [
    "from pyspark.sql import functions as F\n",
    "\n",
    "def Caso8(p):\n",
    "    p = p.filter((col(\"status\") != 1) & (col(\"type\") == 3))\n",
    "    df = p.select(\n",
    "            p[\"partner\"].alias(\"partner_id\"),\n",
    "            concat(p[\"partner\"], p[\"id\"].cast(DecimalType(10,0))).alias(\"partner_player_id\"),\n",
    "            p[\"status\"].alias(\"status_id\"),\n",
    "            p[\"password\"].alias(\"password\")\n",
    "        )\n",
    "\n",
    "    # Paso 1: marcar contraseñas duplicadas\n",
    "    dup = df.withColumn(\n",
    "        \"dup_count\", F.count(\"partner_player_id\").over(Window.partitionBy(\"password\"))\n",
    "    )\n",
    "\n",
    "    # Paso 2: detectar si alguna contraseña duplicada tiene status_id = 7\n",
    "    flag = dup.withColumn(\n",
    "        \"has_status7\",\n",
    "        F.max(F.when(F.col(\"status_id\") == 7, 1).otherwise(0)).over(Window.partitionBy(\"password\"))\n",
    "    )\n",
    "\n",
    "    # Paso 3: asignar Caso8\n",
    "    res = flag.withColumn(\n",
    "        \"Caso8\",\n",
    "        F.when(F.col(\"dup_count\") > 1, \n",
    "            F.when(F.col(\"has_status7\") == 1, 5).otherwise(3)\n",
    "        ).otherwise(F.lit(None))  # si no está duplicada -> null\n",
    "    ).drop(\"dup_count\", \"has_status7\")\n",
    "\n",
    "    return res\n",
    "\n",
    "\n",
    "df_Caso8 = Caso8(df_p0).unionByName(Caso8(df_p1)).unionByName(Caso8(df_p2)).unionByName(Caso8(df_p3))"
   ]
  },
  {
   "cell_type": "markdown",
   "metadata": {
    "application/vnd.databricks.v1+cell": {
     "cellMetadata": {
      "byteLimit": 2048000,
      "rowLimit": 10000
     },
     "inputWidgets": {},
     "nuid": "b6aefe9e-8a61-4472-ac38-d3d08bc59bfc",
     "showTitle": false,
     "tableResultSettingsMap": {},
     "title": ""
    }
   },
   "source": [
    "### Casos"
   ]
  },
  {
   "cell_type": "code",
   "execution_count": 0,
   "metadata": {
    "application/vnd.databricks.v1+cell": {
     "cellMetadata": {
      "byteLimit": 2048000,
      "rowLimit": 10000
     },
     "inputWidgets": {},
     "nuid": "8d0ce800-289e-4304-972b-a5b63bf6958e",
     "showTitle": false,
     "tableResultSettingsMap": {},
     "title": ""
    }
   },
   "outputs": [],
   "source": [
    "df_C1 = df_Caso1 #Realizo algún Cash Out en el mes\n",
    "df_C2 = df_Caso2 #Realizo una apuesta de Cuota Baja\n",
    "df_C3 = df_Caso3 #Cantidad distintas de IPs X Mes\n",
    "df_C4 = df_Caso4 #Bonos Convertidos\n",
    "df_C5 = df_Caso5 #GGR Menor 0 Y JUGADO EN BONOS Mayor JUGADO EN Efectivo$\n",
    "df_C6 = df_Caso6 #Deposito menor a (retiro + Saldo disponible)\n",
    "df_C7 = df_Caso7 #FTD o mas de 3 meses seguidos inactivos\n",
    "df_C8 = df_Caso8 #Contraseña duplicada con status_id = 7"
   ]
  },
  {
   "cell_type": "code",
   "execution_count": 0,
   "metadata": {
    "application/vnd.databricks.v1+cell": {
     "cellMetadata": {
      "byteLimit": 2048000,
      "rowLimit": 10000
     },
     "inputWidgets": {},
     "nuid": "445ac30c-1f41-46e4-8197-a1a125e1f992",
     "showTitle": false,
     "tableResultSettingsMap": {},
     "title": ""
    }
   },
   "outputs": [],
   "source": [
    "df_C1 = df_ad.filter(col('combination_status_id') == 6)\\\n",
    "    .groupBy(\n",
    "        'partner_id', \n",
    "        'partner_player_id', \n",
    "        date_format(col('fecha'), 'yyyy-MM').alias('mes')\n",
    "    ).agg(count('*').alias('cant_CashOut')).orderBy('partner_player_id')\n",
    "\n",
    "df_C2 = df_ad.filter((col('combination_odds') >= 1) & (col('combination_odds') <= 1.07) & (col('operation_type_id') == 4))\\\n",
    "    .groupBy(\n",
    "        'partner_id', \n",
    "        'partner_player_id',\n",
    "        date_format(col('fecha'), 'yyyy-MM').alias('mes')\n",
    "    ).agg(count('*').alias('cant_ApCuotaBaja')).orderBy('partner_player_id')\n",
    "\n",
    "res = df_C1.join(df_C2, [\"partner_player_id\", \"mes\"], \"full\")\\\n",
    "            .join(df_C3, [\"partner_player_id\", \"mes\"], \"full\")\\\n",
    "                .join(df_C4, [\"partner_player_id\", \"mes\"], \"full\")\\\n",
    "                    .join(df_C5, [\"partner_player_id\", \"mes\"], \"full\")\\\n",
    "                        .join(df_C6, [\"partner_player_id\", \"mes\"], \"full\")\\\n",
    "                            .join(df_p, [\"partner_player_id\"], \"inner\")\\\n",
    "    .select(\n",
    "        df_p[\"partner_id\"],\n",
    "        df_p[\"partner_player_id\"],\n",
    "        #df_p[\"Camada_deposito\"].alias(\"FTD\"),\n",
    "        coalesce(\n",
    "            df_C1[\"mes\"],\n",
    "            df_C2[\"mes\"],\n",
    "            df_C3[\"mes\"],\n",
    "            df_C4[\"mes\"],\n",
    "            df_C5[\"mes\"]).alias(\"mes\"),\n",
    "        df_C1[\"cant_CashOut\"],\n",
    "        df_C2[\"cant_ApCuotaBaja\"],\n",
    "        df_C3[\"cant_ips\"],\n",
    "        df_C4[\"monto\"].alias(\"bono_conv\"),\n",
    "        df_C5[\"GGR\"],\n",
    "        df_C5[\"Ap_Eftvo\"],\n",
    "        df_C5[\"Ap_Bono\"],\n",
    "        df_C6[\"Deposito\"],\n",
    "        df_C6[\"Retiro\"],\n",
    "        df_C6[\"Saldo Disponible\"].alias(\"Saldo_Disponible\")\n",
    "    )\n",
    "\n",
    "res = res.fillna({'cant_CashOut': 0, 'cant_ApCuotaBaja': 0, 'cant_ips': 0, 'bono_conv': 0.00, 'GGR': 0.00, 'Ap_Eftvo': 0.00, 'Ap_Bono': 0.00, 'Deposito': 0.00, 'Retiro': 0.00, 'Saldo_Disponible': 0.00})\n",
    "# 7028097\n",
    "# print(res.count())"
   ]
  },
  {
   "cell_type": "markdown",
   "metadata": {
    "application/vnd.databricks.v1+cell": {
     "cellMetadata": {
      "byteLimit": 2048000,
      "rowLimit": 10000
     },
     "inputWidgets": {},
     "nuid": "b9694347-97f7-4465-b302-27a7d3e3ba8e",
     "showTitle": false,
     "tableResultSettingsMap": {},
     "title": ""
    }
   },
   "source": [
    "## Unificado"
   ]
  },
  {
   "cell_type": "code",
   "execution_count": 0,
   "metadata": {
    "application/vnd.databricks.v1+cell": {
     "cellMetadata": {
      "byteLimit": 2048000,
      "rowLimit": 10000
     },
     "inputWidgets": {},
     "nuid": "71ed0ff2-1e7c-425f-93c4-1078c271fbb5",
     "showTitle": false,
     "tableResultSettingsMap": {},
     "title": ""
    }
   },
   "outputs": [],
   "source": [
    "from pyspark.sql.functions import coalesce, col, when, lit\n",
    "\n",
    "df_res = (\n",
    "    df_Caso1.alias(\"df1\")\n",
    "    .join(df_Caso2.alias(\"df2\"), [\"partner_player_id\", \"mes\"], \"full\")\n",
    "    .join(df_Caso3.alias(\"df3\"), [\"partner_player_id\", \"mes\"], \"full\")\n",
    "    .join(df_Caso4.alias(\"df4\"), [\"partner_player_id\", \"mes\"], \"full\")\n",
    "    .join(df_Caso5.alias(\"df5\"), [\"partner_player_id\", \"mes\"], \"full\")\n",
    "    .join(df_Caso6.alias(\"df6\"), [\"partner_player_id\", \"mes\"], \"full\")\n",
    "    .join(df_Caso7.alias(\"df7\"), [\"partner_player_id\", \"mes\"], \"full\")\n",
    "    .join(df_Caso8.alias(\"df8\"), [\"partner_player_id\"], \"full\")\n",
    "    .join(df_p.alias(\"dfp\"), [\"partner_player_id\"], \"inner\")\n",
    "    .select(\n",
    "        df_p[\"partner_id\"],\n",
    "        coalesce(\n",
    "            col(\"df1.partner_player_id\"),\n",
    "            col(\"df2.partner_player_id\"),\n",
    "            col(\"df3.partner_player_id\"),\n",
    "            col(\"df4.partner_player_id\"),\n",
    "            col(\"df5.partner_player_id\"),\n",
    "            col(\"df6.partner_player_id\"),\n",
    "            col(\"df7.partner_player_id\"),\n",
    "            col(\"df8.partner_player_id\"),\n",
    "            col(\"dfp.partner_player_id\")\n",
    "        ).alias(\"partner_player_id\"),\n",
    "        coalesce(\n",
    "            df_Caso1[\"mes\"], \n",
    "            df_Caso2[\"mes\"], \n",
    "            df_Caso3[\"mes\"], \n",
    "            df_Caso4[\"mes\"], \n",
    "            df_Caso5[\"mes\"], \n",
    "            df_Caso6[\"mes\"],\n",
    "            df_Caso7[\"mes\"]).alias(\"mes\"),\n",
    "        df_Caso1[\"Caso1\"],\n",
    "        df_Caso2[\"Caso2\"],\n",
    "        df_Caso3[\"Caso3\"],\n",
    "        df_Caso4[\"Caso4\"],\n",
    "        df_Caso5[\"Caso5\"],\n",
    "        df_Caso6[\"Caso6\"],\n",
    "        df_Caso7[\"Caso7\"],\n",
    "        df_Caso8[\"Caso8\"],\n",
    "        df_p[\"Camada_deposito\"].alias(\"FTD\")\n",
    "    ).orderBy(\"partner_player_id\", \"mes\")\n",
    ")\n",
    "\n",
    "df_res = df_res.select(\n",
    "    \"partner_id\", \"partner_player_id\", \"FTD\", \"mes\", \"Caso1\", \"Caso2\", \"Caso3\", \"Caso4\", \"Caso5\", \"Caso6\", \"Caso7\", \"Caso8\"\n",
    ").fillna({'Caso1': 1, 'Caso2': 1, 'Caso3': 1, 'Caso4': 1, 'Caso5': 1, 'Caso6': 1, 'Caso7': 1, 'Caso8': 1})"
   ]
  },
  {
   "cell_type": "code",
   "execution_count": 0,
   "metadata": {
    "application/vnd.databricks.v1+cell": {
     "cellMetadata": {
      "byteLimit": 2048000,
      "rowLimit": 10000
     },
     "inputWidgets": {},
     "nuid": "3da23da6-7eda-488c-97f0-e7e81e99f4a8",
     "showTitle": false,
     "tableResultSettingsMap": {},
     "title": ""
    }
   },
   "outputs": [],
   "source": [
    "df_resultado_final = df_res.select(\n",
    "    'partner_id',\n",
    "    'partner_player_id',\n",
    "    'FTD',\n",
    "    'mes',\n",
    "    'Caso1',\n",
    "    (col('Caso1')*0.09).alias('Res1'),\n",
    "    'Caso2',\n",
    "    (col('Caso2')*0.09).alias('Res2'),\n",
    "    'Caso3',\n",
    "    (col('Caso3')*0.07).alias('Res3'),\n",
    "    'Caso4',\n",
    "    (col('Caso4')*0.07).alias('Res4'),\n",
    "    'Caso5',\n",
    "    (col('Caso5')*0.18).alias('Res5'),\n",
    "    'Caso6',\n",
    "    (col('Caso6')*0.18).alias('Res6'),\n",
    "    'Caso7',\n",
    "    (col('Caso7')*0.14).alias('Res7'),\n",
    "    'Caso8',\n",
    "    (col('Caso8')*0.18).alias('Res8')\n",
    ")\n",
    "\n",
    "df_resultado_final = df_resultado_final.join(res, [\"partner_player_id\", \"mes\", \"partner_id\"], 'full')"
   ]
  },
  {
   "cell_type": "code",
   "execution_count": 0,
   "metadata": {
    "application/vnd.databricks.v1+cell": {
     "cellMetadata": {
      "byteLimit": 2048000,
      "rowLimit": 10000
     },
     "inputWidgets": {},
     "nuid": "60eeb688-1cfb-4fd6-97db-d89a7e79770f",
     "showTitle": false,
     "tableResultSettingsMap": {},
     "title": ""
    }
   },
   "outputs": [],
   "source": [
    "df_resultado_final.write \\\n",
    "    .mode(\"overwrite\") \\\n",
    "        .option(\"mergeSchema\", \"true\") \\\n",
    "            .saveAsTable('path.productivo.riesgo')"
   ]
  },
  {
   "cell_type": "markdown",
   "metadata": {
    "application/vnd.databricks.v1+cell": {
     "cellMetadata": {
      "byteLimit": 2048000,
      "rowLimit": 10000
     },
     "inputWidgets": {},
     "nuid": "08d944a2-1540-4be5-969d-dc117abfa581",
     "showTitle": false,
     "tableResultSettingsMap": {},
     "title": ""
    }
   },
   "source": [
    "## Resumido Mes x Mes"
   ]
  },
  {
   "cell_type": "code",
   "execution_count": 0,
   "metadata": {
    "application/vnd.databricks.v1+cell": {
     "cellMetadata": {
      "byteLimit": 2048000,
      "rowLimit": 10000
     },
     "inputWidgets": {},
     "nuid": "992d36f8-a87a-490c-ad50-4e3d1254d8d5",
     "showTitle": false,
     "tableResultSettingsMap": {},
     "title": ""
    }
   },
   "outputs": [],
   "source": [
    "df_resumen_res = df_resultado_final.select(\n",
    "    \"partner_id\",\n",
    "    \"partner_player_id\",\n",
    "    \"FTD\",\n",
    "    col(\"mes\").alias(\"periodo\"),\n",
    "    (col(\"Res1\") + col(\"Res2\") + col(\"Res3\") + col(\"Res4\") + col(\"Res5\") + col(\"Res6\") + col(\"Res7\")).cast(DecimalType(10, 2)).alias('Resultado')\n",
    ")"
   ]
  },
  {
   "cell_type": "code",
   "execution_count": 0,
   "metadata": {
    "application/vnd.databricks.v1+cell": {
     "cellMetadata": {
      "byteLimit": 2048000,
      "rowLimit": 10000
     },
     "inputWidgets": {},
     "nuid": "ec473ab2-8909-44b4-ad4a-51a96c411464",
     "showTitle": false,
     "tableResultSettingsMap": {},
     "title": ""
    }
   },
   "outputs": [],
   "source": [
    "from pyspark.sql.functions import current_date\n",
    "calendario = spark.read.table(\"path.productivo.calendario\")\n",
    "# Get Periodos \"yyyy-MM\"\n",
    "periodo = calendario.select(date_format('Fecha', 'yyyy-MM').alias('periodo')).distinct()\n",
    "periodo = periodo.filter(col('periodo') <= date_format(current_date(), 'yyyy-MM')).orderBy('periodo')"
   ]
  },
  {
   "cell_type": "code",
   "execution_count": 0,
   "metadata": {
    "application/vnd.databricks.v1+cell": {
     "cellMetadata": {
      "byteLimit": 2048000,
      "rowLimit": 10000
     },
     "inputWidgets": {},
     "nuid": "afddcc73-e38b-4a21-a4c0-4f70bc2bc2d0",
     "showTitle": false,
     "tableResultSettingsMap": {},
     "title": ""
    }
   },
   "outputs": [],
   "source": [
    "df_datos = df_resumen_res\n",
    "df_periodos = periodo"
   ]
  },
  {
   "cell_type": "code",
   "execution_count": 0,
   "metadata": {
    "application/vnd.databricks.v1+cell": {
     "cellMetadata": {
      "byteLimit": 2048000,
      "rowLimit": 10000
     },
     "inputWidgets": {},
     "nuid": "bf5d07ba-e091-4900-aaa9-a73bfcbd8008",
     "showTitle": false,
     "tableResultSettingsMap": {},
     "title": ""
    }
   },
   "outputs": [],
   "source": [
    "from pyspark.sql.functions import lit, coalesce\n",
    "\n",
    "# Paso 1: Crear una tabla cruzada con todos los periodos para cada jugador\n",
    "df_ids = df_datos.select(\"partner_id\", \"partner_player_id\", \"FTD\").distinct()\n",
    "\n",
    "# Paso 2: Unir con todos los periodos\n",
    "df_completo = df_ids.join(df_periodos, df_periodos[\"periodo\"] >= df_ids[\"FTD\"], \"inner\")\n",
    "\n",
    "# Paso 3: Unir con los datos reales\n",
    "df_final = df_completo.join(\n",
    "    df_datos.select(\"partner_id\", \"partner_player_id\", \"periodo\", col(\"Resultado\").cast(DecimalType(10, 2))),\n",
    "    on=[\"partner_id\", \"partner_player_id\", \"periodo\"],\n",
    "    how=\"left\"\n",
    ")\n",
    "\n",
    "# Paso 4: Rellenar Resultado faltante con 1.00\n",
    "df_final = df_final.fillna({\"Resultado\": 1.00})\n",
    "\n",
    "# Paso 5: Orden opcional\n",
    "df_final = df_final.orderBy(\"partner_id\", \"partner_player_id\", \"periodo\")\n"
   ]
  },
  {
   "cell_type": "code",
   "execution_count": 0,
   "metadata": {
    "application/vnd.databricks.v1+cell": {
     "cellMetadata": {
      "byteLimit": 2048000,
      "rowLimit": 10000
     },
     "inputWidgets": {},
     "nuid": "17ac6664-01d1-4798-a30a-95be2bdadb9e",
     "showTitle": false,
     "tableResultSettingsMap": {},
     "title": ""
    }
   },
   "outputs": [],
   "source": [
    "df_final.write \\\n",
    "    .mode(\"overwrite\")\\\n",
    "            .saveAsTable('path.productivo.resumen_riesgo')"
   ]
  }
 ],
 "metadata": {
  "application/vnd.databricks.v1+notebook": {
   "computePreferences": null,
   "dashboards": [],
   "environmentMetadata": {
    "base_environment": "",
    "environment_version": "2"
   },
   "inputWidgetPreferences": null,
   "language": "python",
   "notebookMetadata": {
    "pythonIndentUnit": 4
   },
   "notebookName": "(Clone) Riesgo",
   "widgets": {}
  },
  "language_info": {
   "name": "python"
  }
 },
 "nbformat": 4,
 "nbformat_minor": 0
}
